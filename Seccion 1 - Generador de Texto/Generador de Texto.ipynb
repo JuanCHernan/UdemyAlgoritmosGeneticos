{
 "cells": [
  {
   "cell_type": "code",
   "execution_count": 1,
   "metadata": {},
   "outputs": [],
   "source": [
    "import numpy as np\n",
    "from string import ascii_letters"
   ]
  },
  {
   "cell_type": "code",
   "execution_count": 2,
   "metadata": {},
   "outputs": [],
   "source": [
    "ORACION = np.array(list('There is a large industry with highly intelligent people heavily investing into algorithms development'))\n",
    "UNIVERSO = list(ascii_letters) + [' ']\n",
    "LONGITUD = len(ORACION)"
   ]
  },
  {
   "cell_type": "markdown",
   "metadata": {},
   "source": [
    "### Funcion para poblacion inicial"
   ]
  },
  {
   "cell_type": "code",
   "execution_count": 3,
   "metadata": {},
   "outputs": [],
   "source": [
    "def crear_poblacion_inicial(total=4_000):\n",
    "    return np.random.choice(UNIVERSO, size=(total, LONGITUD))"
   ]
  },
  {
   "cell_type": "markdown",
   "metadata": {},
   "source": [
    "### Funcion para calificar poblacion"
   ]
  },
  {
   "cell_type": "code",
   "execution_count": 4,
   "metadata": {},
   "outputs": [],
   "source": [
    "def calificar_poblacion(poblacion):\n",
    "    return (poblacion == ORACION).sum(axis=1)/LONGITUD"
   ]
  },
  {
   "cell_type": "markdown",
   "metadata": {},
   "source": [
    "### Funcion de Seleccion Torneo"
   ]
  },
  {
   "cell_type": "code",
   "execution_count": 5,
   "metadata": {},
   "outputs": [],
   "source": [
    "def seleccion_torneo(poblacion, calificacion, total_ind_sel=1_000, num_ind=3):\n",
    "    indices_aleatorios = np.random.choice(list(range(len(poblacion))), size=(total_ind_sel, num_ind))\n",
    "    m_calificacion_sel = calificacion[indices_aleatorios].argmax(axis=1)\n",
    "    m_indices_sel = indices_aleatorios[np.arange(total_ind_sel), m_calificacion_sel]\n",
    "    return poblacion[m_indices_sel]"
   ]
  },
  {
   "cell_type": "markdown",
   "metadata": {},
   "source": [
    "### Funcion de Recombinacion"
   ]
  },
  {
   "cell_type": "code",
   "execution_count": 6,
   "metadata": {},
   "outputs": [],
   "source": [
    "def recombinacion(seleccionados, total_hijos=4):\n",
    "    nueva_poblacion = []\n",
    "    total = seleccionados.shape[0]\n",
    "    indices = np.random.choice(list(range(total)), size=total, replace=False)\n",
    "    seleccionados = seleccionados[indices]\n",
    "    g1, g2 = seleccionados[:total//2], seleccionados[total//2:]\n",
    "    for i1, i2 in zip(g1, g2):\n",
    "        for _ in range(total_hijos):\n",
    "            aleatorios = np.random.random(size=seleccionados.shape[1])\n",
    "            n = np.where(aleatorios > 0.5, i1, i2)\n",
    "            nueva_poblacion.append(n)\n",
    "    return np.array(nueva_poblacion)"
   ]
  },
  {
   "cell_type": "markdown",
   "metadata": {},
   "source": [
    "### Funcion de Mutacion"
   ]
  },
  {
   "cell_type": "code",
   "execution_count": 7,
   "metadata": {},
   "outputs": [],
   "source": [
    "def mutacion(poblacion, p_ind=0.25, p_gen=0.25):\n",
    "    poblacion_final = []\n",
    "    probabilidades_ind = np.random.random(size=poblacion.shape[0])\n",
    "    for p, ind in zip(probabilidades_ind, poblacion):\n",
    "        if p < p_ind:\n",
    "            ind_pivote = np.random.choice(UNIVERSO, size=LONGITUD)\n",
    "            probabilidades = np.random.random(size=LONGITUD)\n",
    "            ind = np.where(probabilidades < p_gen, ind_pivote, ind)\n",
    "        poblacion_final.append(ind)\n",
    "    return np.array(poblacion_final)"
   ]
  },
  {
   "cell_type": "markdown",
   "metadata": {},
   "source": [
    "### Funcion de Extraer mejor solucion"
   ]
  },
  {
   "cell_type": "code",
   "execution_count": 8,
   "metadata": {},
   "outputs": [],
   "source": [
    "def mejor_ind(poblacion, calificacion):\n",
    "    mejor_cali = calificacion.argmax()\n",
    "    mejor_ind = poblacion[mejor_cali]\n",
    "    string_ind = ''.join(mejor_ind)\n",
    "    print(f'{string_ind} --> {calificacion.max()}')\n",
    "    return calificacion.max()"
   ]
  },
  {
   "cell_type": "code",
   "execution_count": 9,
   "metadata": {},
   "outputs": [
    {
     "name": "stdout",
     "output_type": "stream",
     "text": [
      "TIti xYwBKQlUKaPuzhAmcQr UxJPktdjewo TvgXgnx VUZHSMafFjKEBlTKPXiMeZxJZtZEDEXFboAnlutKWw hxWMZseNRrudIx --> 0.06862745098039216\n",
      "INHGlrbnfspLiZArQDn MCFDVAoSyo TmIsOklNSNyFcipcZtosuPfRGhu zfAklkvnhbwtJXcbfdSOrqtuutkShNsdWG oQOpkLSc --> 0.08823529411764706\n",
      "MeHGeAUn ESLigkrkDupilPXVAoSyh TKIsOnzRrNyFcibpywosuPfPfhq FfAQwEvnpowOIjLqqxSK qteItkqhNsXCG fQXpmNSc --> 0.10784313725490197\n",
      "qfBrXzaD cTQaJgd rdZuEPdUEWoetqBKtVnroiYArHHuCpXGAPmslLo XHFoozpEmggosMXjLqOqtd uurmUSHHTcXCUMffMimNnd --> 0.12745098039215685\n",
      "jhbQfEYDjUWlGTfJWDtXR prLIrpWjpafJpGiZfipePlvMeRo yVgulchkPtJSDx eoHqztzFkUmFdIvaZMoh uaHakUeVAeYpeTIr --> 0.13725490196078433\n",
      "ArwQoOilIrsBnfJR ytqHktlVAJlSUApTIolylNMHnZciVenqGQJzZRxKFezuklq bRRbYsYOouintprqmuPYIjLyKydwKolJpBLSt --> 0.17647058823529413\n",
      "XdwgsblfYMvBaXx hiAduTSpbDhDgbUhgUmFfRPBjvyXEOpfK VbwEVhojepSEEvfi geCDWngdineo ZaikfithgUkdeCiNejmTRS --> 0.20588235294117646\n",
      "FnBSldesKMvladSl McBugVrV BhkwnhHMkavRiRsofXiymdpOguu RB YeQmiIyky jesYj tBPZhjrOldTBkthmULdezkNCSkBEO --> 0.21568627450980393\n",
      "Aiarqkis aoUzXItRibKNsbNy qkIU UcfmwyaAJGe ghqHhtzLeMptZohOAvIoJZijvkysXMTiWqtrIalgbJkzfNsGLeITTMnroQx --> 0.24509803921568626\n",
      "GvklS et M zaZgeZunzhtNjyLLoCE KxHUVBjoRUrWQigHotmp XCfe heYJxqTUiyeXQAjngqgntYYhGgYoVmhmA PslensOvIS  --> 0.2647058823529412\n",
      "spJQtGioncvUQNXrwcndCTtrGbZeJlUKiUhtCkinjPydYFmtQxgKOvDBGWelvieyCikvqMtN t iHiPrtlgNwAtcmOkdehRhjTmend --> 0.2647058823529412\n",
      "lSeQe YSeXvlarfJhdBbnutolLqsjEHhEvhYEb nUaxlihzlt p Nuln xeafsEksYnvPotIGCvtino ClhIfvthZsVyVJhJoOzJnA --> 0.29411764705882354\n",
      "ThCro yb aDIaPxe indFcQrw sGrlNPyVhIaZcyIPVlidmlt mGoxFqmuQzviwMTYnvBsEPYamiUWmeElaRVitlBskdeBCDfmBJnc --> 0.3235294117647059\n",
      "jheQoBPSgXFlMVgehizCuXtHQ MejY EfdqVyb ncTllinzJd p oule xeavIEFZiMeeZtLEgURnMo VZgIfdmhRVVdwIYcopRTnk --> 0.3627450980392157\n",
      "XverBWgHxgwladgR indnsurB kBZF dMXHlLaMPNelIipzna Ogddle ieavCEy ifveZ WfrHinSomIJgNFvthxh g xVCeUuubt --> 0.37254901960784315\n",
      "jherNPtT NUmaTMe otdustOy Uatw FZtWct iXjeEjagECt iKCpDokhepvilf KnvesxmFgsiAtiuqggDrilQruHyzvNHdpnanK --> 0.4019607843137255\n",
      "jleZfSisKacloVce TYrNstry ktth yAMeSyZinIePlEBentOxAoclPmueuvYpk XnveJeiIg ynAoravgoJGtTlFHdeJeNdpqLYG --> 0.43137254901960786\n",
      "ThJrP CsxeSlarye NtHustrQ PathUhiXhYycXnIelljWenK ppoOVf hQaviqytqnveZLJGgvxBtp ITsoLithvHB jiVJoizeEt --> 0.4803921568627451\n",
      "ghera iKYa laNgrxNnQuWtry w RIAhugGCsOEnArlwigent veUvfe DedvilysinXev oIc RnkY clgkiiDhQUkdBJbloEmJTq --> 0.4803921568627451\n",
      "IvzreP sYTUlwrge indhstry XrkOcgitilKpinSelyigent vtCEwO NeaviHy QnveStDIg OneN tvrArithRvhdeveDorDNWP --> 0.5098039215686274\n",
      "Uhehe XG a lwrSeBindCbtrskXiSg htghFxAZhtellTgant peoBlW hnaJily iwFestkCg inee hlDRENmzmujiuvayMpPenw --> 0.5294117647058824\n",
      " WerP iy mOlavgz ildustmc sftI AxtiVy inSrljigeVt peodTZ heAQily dnvJstkDo incD algAPiwhm  XshaOosCenw --> 0.5392156862745098\n",
      "IherYpiK QElMTgeJindIstry wioj highkyMiMtesUwgzntypeDrlw heahiEkninvestHsg iqto algzrCzhqs DOreJCSmabD --> 0.5784313725490197\n",
      "VherYpFD arlaTge iudIstry sioj hiehyyMiMtelUwghnt pedrlwLheaviEk invsYigng iqto algzrCwhqs DOkeNoSmabw --> 0.5882352941176471\n",
      "qhereNHs NDlarge Dbdulcis wQSh yTghSy iESelzaoJntCpAopDP heavnlW inFJstinD intnealgobithQs deveiopReZK --> 0.6176470588235294\n",
      "Thwre iA aDMaogexindWstry witF giFVlykiteelligent peopGe cuavYlw invesKiMgginto togwnitTKk deAYeopTDTJ --> 0.6470588235294118\n",
      " hare iu DcQaogeVGndustry waty hitylM iFtelligenW ptodlZxheaBily GneescipgdintE algarithms deJlNopmenO --> 0.6862745098039216\n",
      "jlarejVy a laNge Jtdustry witF pvghYyEPnAelligent peoplO jeavEly investLng into aggzjAtdLc deIeHhNment --> 0.696078431372549\n",
      "qharejVs a large Jtduztry witF pvHhYy intesligent NKoElO heavEly lngestingminto aggwxAtdLs deIaDopmenm --> 0.696078431372549\n",
      "yhzOe ishXtlargg indIsery witF highlz inielligeVt peofle PeFvily investing intE algwoithzsKdtveCopNYnQ --> 0.7450980392156863\n",
      "RhXr  H  a lGrge izdustry XBtU highly iQeylligent peoCleLIeavily invewtLpg intiralgorbthms developmSnQ --> 0.7647058823529411\n",
      "jhere Cu nvlarge industry wigt hiIhSi knzelligent pHople heavilO invsstiNg intD algonithmn VevYlopmEnt --> 0.7843137254901961\n",
      "Vhere iB aElarge iPdusHry MitqTTiAhly inteLlugett people heCviCy investing intD algoriwhms dLvYyopment --> 0.803921568627451\n",
      "TherZ is atlarge industry witg hiJVly inUeljigenx peopVm heavilW investing into algOriYfWs develobment --> 0.8431372549019608\n",
      "Xhire iG aElarge industry with  ighly inMelligett pHodle hOaSiCy investmng intD algorithvs devekopment --> 0.8431372549019608\n",
      "Uhere fB a large indusHry Mith hiIgRy intesligeqt people heavily investilg inxo algQrithmsldeveXopmenG --> 0.8431372549019608\n",
      "bhere is aGlarge industry with hLghly iQiexligeno people heavily snvestkng into algoridhms dejeeopment --> 0.8823529411764706\n",
      "ThqOe iA a large industry witu highly inSrlligeVt people hezvily investing into dlgwrlthms development --> 0.8921568627450981\n",
      "There Cs a large industry waSh highly intelUigeni pHodle heavily investing into algorithms developZenA --> 0.9117647058823529\n",
      "Ahere isEablarge industry with highly intelligent people heavily investing inYo algoFithas deveiopmInt --> 0.9215686274509803\n",
      "There is a large industry witF highly intelligent people heavily invpsting into algorithms deJYlopment --> 0.9607843137254902\n",
      "jhere is a larie industry Oith highly intelligenY people heavEly investing into algorithms development --> 0.9509803921568627\n",
      "There is a lGrge industry witj higCly intelligent people heavily investing into algoFithms devekopment --> 0.9509803921568627\n",
      "There is a laTge industry with highJy intelligent people heavilk investing into algorithms development --> 0.9705882352941176\n",
      "There is a large industry witc highly intelligent peoplO heavily Gnvesting into algorithms development --> 0.9705882352941176\n",
      "There is a large industry with highly inzelligent people heavily investing into algorithms develorment --> 0.9803921568627451\n",
      "There is a large industry with highly intelligent people heavily investing into klgorithms development --> 0.9901960784313726\n",
      "There is a large industry with highly intelligent people heavily investing into algorithms development --> 1.0\n"
     ]
    }
   ],
   "source": [
    "poblacion = crear_poblacion_inicial()\n",
    "for _ in range(500):\n",
    "    calificacion = calificar_poblacion(poblacion)\n",
    "    maximo = mejor_ind(poblacion, calificacion)\n",
    "    if maximo == 1:\n",
    "        break\n",
    "    seleccionados = seleccion_torneo(poblacion, calificacion)\n",
    "    poblacion = recombinacion(seleccionados)\n",
    "    poblacion = mutacion(poblacion)"
   ]
  },
  {
   "cell_type": "code",
   "execution_count": null,
   "metadata": {},
   "outputs": [],
   "source": []
  }
 ],
 "metadata": {
  "kernelspec": {
   "display_name": "Python 3.8.5 ('base')",
   "language": "python",
   "name": "python385jvsc74a57bd0370f412194a76f5206d12fa15a737c78c736423b758eeabf0b02c996f1d51276"
  },
  "language_info": {
   "codemirror_mode": {
    "name": "ipython",
    "version": 3
   },
   "file_extension": ".py",
   "mimetype": "text/x-python",
   "name": "python",
   "nbconvert_exporter": "python",
   "pygments_lexer": "ipython3",
   "version": "3.8.5"
  }
 },
 "nbformat": 4,
 "nbformat_minor": 4
}
